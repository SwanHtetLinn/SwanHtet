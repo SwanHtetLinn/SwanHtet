{
  "nbformat": 4,
  "nbformat_minor": 0,
  "metadata": {
    "colab": {
      "provenance": [],
      "collapsed_sections": []
    },
    "kernelspec": {
      "name": "python3",
      "display_name": "Python 3"
    },
    "language_info": {
      "name": "python"
    }
  },
  "cells": [
    {
      "cell_type": "markdown",
      "source": [
        "1) Write a Python program to create a dictionary that count the frequency of words in the string given in Q1.txt. Find the most frequent occured word."
      ],
      "metadata": {
        "id": "bBSbIZTtW7q4"
      }
    },
    {
      "cell_type": "code",
      "execution_count": 162,
      "metadata": {
        "id": "l6y53V9ZWzox",
        "colab": {
          "base_uri": "https://localhost:8080/"
        },
        "outputId": "eda34777-a6c4-40e4-9251-01c09baeb1fe"
      },
      "outputs": [
        {
          "output_type": "stream",
          "name": "stdout",
          "text": [
            "{'I': 4, 'love': 1, 'this': 1, 'movie!': 1, 'It': 2, 'is': 1, 'sweet,': 1, 'but': 1, 'with': 1, 'satirical': 1, 'humor.': 1, 'The': 1, 'dialogs': 1, 'are': 2, 'great': 1, 'and': 4, 'the': 3, 'adventure': 1, 'scenes': 1, 'fun.': 1, 'manages': 1, 'to': 3, 'be': 1, 'romantic': 1, 'whimsical': 1, 'while': 1, 'laughingat': 1, 'conventions': 1, 'of': 1, 'fairy': 1, 'tale': 1, 'genre.': 1, 'would': 1, 'recommend': 1, 'it': 3, 'just': 1, 'about': 1, 'anyone.': 1, 'have': 1, 'seen': 1, 'several': 1, 'times': 1, 'am': 1, 'always': 1, 'happy': 1, 'see': 1, 'again': 1, 'again.': 1, '': 1}\n",
            "4 I\n"
          ]
        }
      ],
      "source": [
        "#step 1: read content from Q1.txt into list\n",
        "with open('Q1.txt', 'r') as file1:\n",
        "  wordlist = file1.read()\n",
        "\n",
        "#Step 2: Split the list \n",
        "words_list = wordlist.split(\" \")\n",
        "\n",
        "#Step 3: Define the function by using \"for loop\" and \"if\" functions\n",
        "def find_frequency (words_list):\n",
        "  word_dictionary = {}\n",
        "  for word in words_list:\n",
        "    if word in word_dictionary:\n",
        "      word_dictionary[word] += 1\n",
        "    else:\n",
        "      word_dictionary[word] = 1\n",
        "  return word_dictionary\n",
        "\n",
        "#Step 4: Count the frequency of the words\n",
        "word_count = find_frequency(words_list)\n",
        "print(word_count)\n",
        "\n",
        "#Step find the most frequent value\n",
        "def find_mfow (word_count): #mfow = most frequent occured word\n",
        "  max = 1\n",
        "  for word, frequency in word_count.items():\n",
        "    if frequency > max:\n",
        "      max = frequency\n",
        "      word = max_word\n",
        "  return max, max_word\n",
        "\n",
        "max, max_word = find_mfow (word_count)\n",
        "print(max, max_word)"
      ]
    },
    {
      "cell_type": "markdown",
      "source": [
        "# New Section"
      ],
      "metadata": {
        "id": "LRp3nkBfgSSm"
      }
    },
    {
      "cell_type": "markdown",
      "source": [
        "2) Write a Python program to read the name from Q2.txt and create email using domain 'parami.edu.mm' and save the results as dictionary : \n",
        "{'name': 'name@parami.edu.mm'}.\n",
        "Please take note that your email should not include space or any special characters and all charcters should be in lowercase. "
      ],
      "metadata": {
        "id": "aQP7q021Xr9W"
      }
    },
    {
      "cell_type": "code",
      "source": [
        "#Step 1: Read Q2. txt into the list\n",
        "with open ('Q2.txt', 'r') as names:\n",
        "    header = names.readline()\n",
        "    namelist = names.readlines()\n",
        "\n",
        "#Step 2: Convert the list into lowercase\n",
        "for i in range(len(namelist)):\n",
        "    namelist[i] = namelist[i].lower()\n",
        "\n",
        "#Step 3: Remove \\n and all white spaces using re.sub() function\n",
        "res = []\n",
        "for sub in namelist:\n",
        "  res.append(re.sub(r\"\\s+\", \"\", sub))   # \\s matches all white spaces\n",
        "\n",
        "#Step 4: Create the email list by using the lambda \n",
        "email_create = lambda name: name + \"@\"+\"parami.edu.mm\"\n",
        "email_list = [*map(email_create, res)]\n",
        "print (email_list)\n"
      ],
      "metadata": {
        "id": "2B2TGvQCXuR3",
        "colab": {
          "base_uri": "https://localhost:8080/"
        },
        "outputId": "7fc5c511-56bd-48d5-cd94-30c82479610d"
      },
      "execution_count": 121,
      "outputs": [
        {
          "output_type": "stream",
          "name": "stdout",
          "text": [
            "['dechendorji@parami.edu.mm', 'dekitshomo@parami.edu.mm', 'dorjitshering@parami.edu.mm', 'dorjiwangmo@parami.edu.mm', 'gemtsheringlepcha@parami.edu.mm', 'jigmedorji@parami.edu.mm', 'kinleycheki@parami.edu.mm', 'kinleywangmo@parami.edu.mm', 'ngawangdemakarpo@parami.edu.mm', 'roshanchhetri@parami.edu.mm', 'sonamtenzin@parami.edu.mm', 'sonamtobgay@parami.edu.mm', 'sonamyangden@parami.edu.mm', 'tandinom@parami.edu.mm', 'tandinwangchuk@parami.edu.mm', 'tashiom@parami.edu.mm', 'tendayzangmo@parami.edu.mm', 'tsheringpem@parami.edu.mm', 'ugyenphurpa@parami.edu.mm', 'marmitt@parami.edu.mm']\n"
          ]
        }
      ]
    }
  ]
}